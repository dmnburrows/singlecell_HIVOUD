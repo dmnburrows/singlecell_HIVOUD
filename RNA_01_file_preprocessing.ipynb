{
 "cells": [
  {
   "cell_type": "markdown",
   "id": "207d05f3-943b-4b9c-b39d-ecddd6206f3b",
   "metadata": {},
   "source": [
    "# RNA Expression Matrix Preprocessing"
   ]
  },
  {
   "cell_type": "code",
   "execution_count": 1,
   "id": "43df15e6-be57-45ea-a6c1-11dd657340de",
   "metadata": {},
   "outputs": [],
   "source": [
    "import pandas as pd\n",
    "import numpy as np\n",
    "import scanpy as sc\n",
    "import matplotlib.pyplot as plt\n",
    "import scipy\n",
    "import seaborn as sns\n",
    "import scrublet as scr\n",
    "import re\n",
    "import os"
   ]
  },
  {
   "cell_type": "code",
   "execution_count": 2,
   "id": "bf65f3bc-5e2a-4078-aa61-94286d0ea7d5",
   "metadata": {},
   "outputs": [
    {
     "name": "stdout",
     "output_type": "stream",
     "text": [
      "['JB_1415_1_2_JB_1411_1_2', 'JD_173_1_2_JD_169_1_2', 'JD_174_1_2_JD_170_1_2', 'JB_1414_1_2_JB_1410_1_2', 'JB_1416_1_2_JB_1412_1_2', 'JB_1417_1_2_JB_1413_1_2', 'JD_175_1_2_JD_171_1_2']\n"
     ]
    }
   ],
   "source": [
    "def list_directories(path):\n",
    "    # List all items in the directory\n",
    "    items = os.listdir(path)\n",
    "    # Filter and return only directories\n",
    "    directories = [item for item in items if os.path.isdir(os.path.join(path, item))]\n",
    "    return directories\n",
    "\n",
    "# Specify the path\n",
    "path = \"/cndd/xic007/scorch/SCORCH_NHP/downloaded_data\"\n",
    "\n",
    "# Call the function and print the directory names\n",
    "directory_names = list_directories(path)\n",
    "print(directory_names)"
   ]
  },
  {
   "cell_type": "code",
   "execution_count": 3,
   "id": "889e6763-ec85-4810-8e5a-e6b2a9f459b7",
   "metadata": {},
   "outputs": [
    {
     "data": {
      "text/html": [
       "<div>\n",
       "<style scoped>\n",
       "    .dataframe tbody tr th:only-of-type {\n",
       "        vertical-align: middle;\n",
       "    }\n",
       "\n",
       "    .dataframe tbody tr th {\n",
       "        vertical-align: top;\n",
       "    }\n",
       "\n",
       "    .dataframe thead th {\n",
       "        text-align: right;\n",
       "    }\n",
       "</style>\n",
       "<table border=\"1\" class=\"dataframe\">\n",
       "  <thead>\n",
       "    <tr style=\"text-align: right;\">\n",
       "      <th>1</th>\n",
       "      <th>10X Run ID</th>\n",
       "      <th>Sample ID</th>\n",
       "      <th>Donor ID</th>\n",
       "      <th>Sample description</th>\n",
       "      <th>Disease group [Control, HIV, OUD, HIV+OUD]</th>\n",
       "      <th>Brain region</th>\n",
       "      <th>OBSOLETE Tissue source</th>\n",
       "      <th>Batch</th>\n",
       "      <th>RA</th>\n",
       "      <th>Planned experimental date</th>\n",
       "      <th>...</th>\n",
       "      <th>Fastq (ATAC)</th>\n",
       "      <th>Fastq  (RNA)</th>\n",
       "      <th>Fastq deep (ATAC)</th>\n",
       "      <th>Fastq deep (RNA)</th>\n",
       "      <th>deep+shallow ATAC Median high-quality fragments per cell</th>\n",
       "      <th>deep+shallow ATAC TSS enrichment score</th>\n",
       "      <th>deep+shallow RNA median genes per cell</th>\n",
       "      <th>deep+shallow clustering qual</th>\n",
       "      <th>comment to average/bas samples</th>\n",
       "      <th>Comments</th>\n",
       "    </tr>\n",
       "  </thead>\n",
       "  <tbody>\n",
       "    <tr>\n",
       "      <th>2</th>\n",
       "      <td>SCORCH_MULTI_24</td>\n",
       "      <td>M108/NM25 Amygdala</td>\n",
       "      <td>NaN</td>\n",
       "      <td>NaN</td>\n",
       "      <td>Control</td>\n",
       "      <td>NaN</td>\n",
       "      <td>NaN</td>\n",
       "      <td>1</td>\n",
       "      <td>JD</td>\n",
       "      <td>NaN</td>\n",
       "      <td>...</td>\n",
       "      <td>https://epigenomics.sdsc.edu/hjiao/bot_output/...</td>\n",
       "      <td>https://epigenomics.sdsc.edu/hjiao/bot_output/...</td>\n",
       "      <td>NaN</td>\n",
       "      <td>NaN</td>\n",
       "      <td>NaN</td>\n",
       "      <td>NaN</td>\n",
       "      <td>NaN</td>\n",
       "      <td>NaN</td>\n",
       "      <td>NaN</td>\n",
       "      <td>NaN</td>\n",
       "    </tr>\n",
       "    <tr>\n",
       "      <th>3</th>\n",
       "      <td>SCORCH_MULTI_24</td>\n",
       "      <td>M108/NM25 Hippocampus</td>\n",
       "      <td>NaN</td>\n",
       "      <td>NaN</td>\n",
       "      <td>Control</td>\n",
       "      <td>NaN</td>\n",
       "      <td>NaN</td>\n",
       "      <td>1</td>\n",
       "      <td>JD</td>\n",
       "      <td>NaN</td>\n",
       "      <td>...</td>\n",
       "      <td>https://epigenomics.sdsc.edu/hjiao/bot_output/...</td>\n",
       "      <td>https://epigenomics.sdsc.edu/hjiao/bot_output/...</td>\n",
       "      <td>NaN</td>\n",
       "      <td>NaN</td>\n",
       "      <td>NaN</td>\n",
       "      <td>NaN</td>\n",
       "      <td>NaN</td>\n",
       "      <td>NaN</td>\n",
       "      <td>NaN</td>\n",
       "      <td>NaN</td>\n",
       "    </tr>\n",
       "    <tr>\n",
       "      <th>4</th>\n",
       "      <td>SCORCH_MULTI_24</td>\n",
       "      <td>M108/NM25 Prefrontal Cortex</td>\n",
       "      <td>NaN</td>\n",
       "      <td>NaN</td>\n",
       "      <td>Control</td>\n",
       "      <td>NaN</td>\n",
       "      <td>NaN</td>\n",
       "      <td>1</td>\n",
       "      <td>JD</td>\n",
       "      <td>NaN</td>\n",
       "      <td>...</td>\n",
       "      <td>https://epigenomics.sdsc.edu/hjiao/bot_output/...</td>\n",
       "      <td>https://epigenomics.sdsc.edu/hjiao/bot_output/...</td>\n",
       "      <td>NaN</td>\n",
       "      <td>NaN</td>\n",
       "      <td>NaN</td>\n",
       "      <td>NaN</td>\n",
       "      <td>NaN</td>\n",
       "      <td>NaN</td>\n",
       "      <td>NaN</td>\n",
       "      <td>NaN</td>\n",
       "    </tr>\n",
       "    <tr>\n",
       "      <th>5</th>\n",
       "      <td>SCORCH_MULTI_24</td>\n",
       "      <td>M108/NM25 Striatum</td>\n",
       "      <td>NaN</td>\n",
       "      <td>NaN</td>\n",
       "      <td>Control</td>\n",
       "      <td>NaN</td>\n",
       "      <td>NaN</td>\n",
       "      <td>1</td>\n",
       "      <td>JD</td>\n",
       "      <td>NaN</td>\n",
       "      <td>...</td>\n",
       "      <td>https://epigenomics.sdsc.edu/hjiao/bot_output/...</td>\n",
       "      <td>https://epigenomics.sdsc.edu/hjiao/bot_output/...</td>\n",
       "      <td>NaN</td>\n",
       "      <td>NaN</td>\n",
       "      <td>NaN</td>\n",
       "      <td>NaN</td>\n",
       "      <td>NaN</td>\n",
       "      <td>NaN</td>\n",
       "      <td>NaN</td>\n",
       "      <td>NaN</td>\n",
       "    </tr>\n",
       "    <tr>\n",
       "      <th>6</th>\n",
       "      <td>SCORCH_Macaque_2</td>\n",
       "      <td>M108/NN17 Amygdala</td>\n",
       "      <td>NaN</td>\n",
       "      <td>NaN</td>\n",
       "      <td>Control</td>\n",
       "      <td>NaN</td>\n",
       "      <td>NaN</td>\n",
       "      <td>2</td>\n",
       "      <td>JB</td>\n",
       "      <td>NaN</td>\n",
       "      <td>...</td>\n",
       "      <td>https://epigenomics.sdsc.edu/hjiao/bot_output/...</td>\n",
       "      <td>https://epigenomics.sdsc.edu/hjiao/bot_output/...</td>\n",
       "      <td>NaN</td>\n",
       "      <td>NaN</td>\n",
       "      <td>NaN</td>\n",
       "      <td>NaN</td>\n",
       "      <td>NaN</td>\n",
       "      <td>NaN</td>\n",
       "      <td>NaN</td>\n",
       "      <td>NaN</td>\n",
       "    </tr>\n",
       "    <tr>\n",
       "      <th>7</th>\n",
       "      <td>SCORCH_Macaque_2</td>\n",
       "      <td>MM108/NN17 Hippocampus</td>\n",
       "      <td>NaN</td>\n",
       "      <td>NaN</td>\n",
       "      <td>Control</td>\n",
       "      <td>NaN</td>\n",
       "      <td>NaN</td>\n",
       "      <td>2</td>\n",
       "      <td>JB</td>\n",
       "      <td>NaN</td>\n",
       "      <td>...</td>\n",
       "      <td>https://epigenomics.sdsc.edu/hjiao/bot_output/...</td>\n",
       "      <td>https://epigenomics.sdsc.edu/hjiao/bot_output/...</td>\n",
       "      <td>NaN</td>\n",
       "      <td>NaN</td>\n",
       "      <td>NaN</td>\n",
       "      <td>NaN</td>\n",
       "      <td>NaN</td>\n",
       "      <td>NaN</td>\n",
       "      <td>NaN</td>\n",
       "      <td>NaN</td>\n",
       "    </tr>\n",
       "    <tr>\n",
       "      <th>8</th>\n",
       "      <td>SCORCH_Macaque_2</td>\n",
       "      <td>M108/NN17 PFC</td>\n",
       "      <td>NaN</td>\n",
       "      <td>NaN</td>\n",
       "      <td>Control</td>\n",
       "      <td>NaN</td>\n",
       "      <td>NaN</td>\n",
       "      <td>2</td>\n",
       "      <td>JB</td>\n",
       "      <td>NaN</td>\n",
       "      <td>...</td>\n",
       "      <td>https://epigenomics.sdsc.edu/hjiao/bot_output/...</td>\n",
       "      <td>https://epigenomics.sdsc.edu/hjiao/bot_output/...</td>\n",
       "      <td>NaN</td>\n",
       "      <td>NaN</td>\n",
       "      <td>NaN</td>\n",
       "      <td>NaN</td>\n",
       "      <td>NaN</td>\n",
       "      <td>NaN</td>\n",
       "      <td>NaN</td>\n",
       "      <td>NaN</td>\n",
       "    </tr>\n",
       "    <tr>\n",
       "      <th>9</th>\n",
       "      <td>SCORCH_Macaque_2</td>\n",
       "      <td>M108/NN17 Striatum</td>\n",
       "      <td>NaN</td>\n",
       "      <td>NaN</td>\n",
       "      <td>Control</td>\n",
       "      <td>NaN</td>\n",
       "      <td>NaN</td>\n",
       "      <td>2</td>\n",
       "      <td>JB</td>\n",
       "      <td>NaN</td>\n",
       "      <td>...</td>\n",
       "      <td>https://epigenomics.sdsc.edu/hjiao/bot_output/...</td>\n",
       "      <td>https://epigenomics.sdsc.edu/hjiao/bot_output/...</td>\n",
       "      <td>NaN</td>\n",
       "      <td>NaN</td>\n",
       "      <td>NaN</td>\n",
       "      <td>NaN</td>\n",
       "      <td>NaN</td>\n",
       "      <td>NaN</td>\n",
       "      <td>NaN</td>\n",
       "      <td>NaN</td>\n",
       "    </tr>\n",
       "  </tbody>\n",
       "</table>\n",
       "<p>8 rows × 48 columns</p>\n",
       "</div>"
      ],
      "text/plain": [
       "1        10X Run ID                    Sample ID Donor ID Sample description  \\\n",
       "2   SCORCH_MULTI_24           M108/NM25 Amygdala      NaN                NaN   \n",
       "3   SCORCH_MULTI_24        M108/NM25 Hippocampus      NaN                NaN   \n",
       "4   SCORCH_MULTI_24  M108/NM25 Prefrontal Cortex      NaN                NaN   \n",
       "5   SCORCH_MULTI_24           M108/NM25 Striatum      NaN                NaN   \n",
       "6  SCORCH_Macaque_2           M108/NN17 Amygdala      NaN                NaN   \n",
       "7  SCORCH_Macaque_2       MM108/NN17 Hippocampus      NaN                NaN   \n",
       "8  SCORCH_Macaque_2                M108/NN17 PFC      NaN                NaN   \n",
       "9  SCORCH_Macaque_2           M108/NN17 Striatum      NaN                NaN   \n",
       "\n",
       "1 Disease group [Control, HIV, OUD, HIV+OUD] Brain region  \\\n",
       "2                                    Control          NaN   \n",
       "3                                    Control          NaN   \n",
       "4                                    Control          NaN   \n",
       "5                                    Control          NaN   \n",
       "6                                    Control          NaN   \n",
       "7                                    Control          NaN   \n",
       "8                                    Control          NaN   \n",
       "9                                    Control          NaN   \n",
       "\n",
       "1 OBSOLETE Tissue source Batch  RA Planned experimental date  ...  \\\n",
       "2                    NaN     1  JD                       NaN  ...   \n",
       "3                    NaN     1  JD                       NaN  ...   \n",
       "4                    NaN     1  JD                       NaN  ...   \n",
       "5                    NaN     1  JD                       NaN  ...   \n",
       "6                    NaN     2  JB                       NaN  ...   \n",
       "7                    NaN     2  JB                       NaN  ...   \n",
       "8                    NaN     2  JB                       NaN  ...   \n",
       "9                    NaN     2  JB                       NaN  ...   \n",
       "\n",
       "1                                       Fastq (ATAC)  \\\n",
       "2  https://epigenomics.sdsc.edu/hjiao/bot_output/...   \n",
       "3  https://epigenomics.sdsc.edu/hjiao/bot_output/...   \n",
       "4  https://epigenomics.sdsc.edu/hjiao/bot_output/...   \n",
       "5  https://epigenomics.sdsc.edu/hjiao/bot_output/...   \n",
       "6  https://epigenomics.sdsc.edu/hjiao/bot_output/...   \n",
       "7  https://epigenomics.sdsc.edu/hjiao/bot_output/...   \n",
       "8  https://epigenomics.sdsc.edu/hjiao/bot_output/...   \n",
       "9  https://epigenomics.sdsc.edu/hjiao/bot_output/...   \n",
       "\n",
       "1                                       Fastq  (RNA) Fastq deep (ATAC)  \\\n",
       "2  https://epigenomics.sdsc.edu/hjiao/bot_output/...               NaN   \n",
       "3  https://epigenomics.sdsc.edu/hjiao/bot_output/...               NaN   \n",
       "4  https://epigenomics.sdsc.edu/hjiao/bot_output/...               NaN   \n",
       "5  https://epigenomics.sdsc.edu/hjiao/bot_output/...               NaN   \n",
       "6  https://epigenomics.sdsc.edu/hjiao/bot_output/...               NaN   \n",
       "7  https://epigenomics.sdsc.edu/hjiao/bot_output/...               NaN   \n",
       "8  https://epigenomics.sdsc.edu/hjiao/bot_output/...               NaN   \n",
       "9  https://epigenomics.sdsc.edu/hjiao/bot_output/...               NaN   \n",
       "\n",
       "1 Fastq deep (RNA) deep+shallow ATAC Median high-quality fragments per cell  \\\n",
       "2              NaN                                                NaN         \n",
       "3              NaN                                                NaN         \n",
       "4              NaN                                                NaN         \n",
       "5              NaN                                                NaN         \n",
       "6              NaN                                                NaN         \n",
       "7              NaN                                                NaN         \n",
       "8              NaN                                                NaN         \n",
       "9              NaN                                                NaN         \n",
       "\n",
       "1 deep+shallow ATAC TSS enrichment score  \\\n",
       "2                                    NaN   \n",
       "3                                    NaN   \n",
       "4                                    NaN   \n",
       "5                                    NaN   \n",
       "6                                    NaN   \n",
       "7                                    NaN   \n",
       "8                                    NaN   \n",
       "9                                    NaN   \n",
       "\n",
       "1 deep+shallow RNA median genes per cell deep+shallow clustering qual  \\\n",
       "2                                    NaN                          NaN   \n",
       "3                                    NaN                          NaN   \n",
       "4                                    NaN                          NaN   \n",
       "5                                    NaN                          NaN   \n",
       "6                                    NaN                          NaN   \n",
       "7                                    NaN                          NaN   \n",
       "8                                    NaN                          NaN   \n",
       "9                                    NaN                          NaN   \n",
       "\n",
       "1 comment to average/bas samples Comments  \n",
       "2                            NaN      NaN  \n",
       "3                            NaN      NaN  \n",
       "4                            NaN      NaN  \n",
       "5                            NaN      NaN  \n",
       "6                            NaN      NaN  \n",
       "7                            NaN      NaN  \n",
       "8                            NaN      NaN  \n",
       "9                            NaN      NaN  \n",
       "\n",
       "[8 rows x 48 columns]"
      ]
     },
     "execution_count": 3,
     "metadata": {},
     "output_type": "execute_result"
    }
   ],
   "source": [
    "meta = pd.read_csv(\"/cndd/xic007/scorch/SCORCH_NHP/Rana_SCORCH_NHP_SIV-NeMO submission - Sheet C.2 - Macaque Data Production Tracking.csv\", header=None)\n",
    "meta.columns = meta.iloc[1]  # Set the first row as header \n",
    "meta = meta[2:]\n",
    "meta"
   ]
  },
  {
   "cell_type": "code",
   "execution_count": 4,
   "id": "b91fb249-20b9-4b2a-a323-7aed954db221",
   "metadata": {},
   "outputs": [
    {
     "data": {
      "text/plain": [
       "{'JD_173': {'sample_id': 'M108/NM25', 'region': 'Amygdala'},\n",
       " 'JD_174': {'sample_id': 'M108/NM25', 'region': 'Hippocampus'},\n",
       " 'JD_175': {'sample_id': 'M108/NM25', 'region': 'PFC'},\n",
       " 'JD_176': {'sample_id': 'M108/NM25', 'region': 'Striatum'},\n",
       " 'JB_1414': {'sample_id': 'M108/NN17', 'region': 'Amygdala'},\n",
       " 'JB_1415': {'sample_id': 'MM108/NN17', 'region': 'Hippocampus'},\n",
       " 'JB_1416': {'sample_id': 'M108/NN17', 'region': 'PFC'},\n",
       " 'JB_1417': {'sample_id': 'M108/NN17', 'region': 'Striatum'}}"
      ]
     },
     "execution_count": 4,
     "metadata": {},
     "output_type": "execute_result"
    }
   ],
   "source": [
    "# Extract relevant columns\n",
    "sample_ids = meta[\"Sample ID\"].tolist()\n",
    "result_ids = meta[\"Library ID (RNA)\"].tolist()  # Adjust the column name if needed\n",
    "\n",
    "# Create a dictionary mapping \"10X Run ID\" to \"Sample ID\"\n",
    "result_to_sample_mapping = {result: sample for result, sample in zip(result_ids, sample_ids)}\n",
    "\n",
    "# Convert to the desired structure\n",
    "# Merge \"PFC\" and \"Prefrontal Cortex\" into \"Prefrontal Cortex\"\n",
    "library_dict = {\n",
    "    library: {\n",
    "        'sample_id': value.split()[0],  # Extract sample ID\n",
    "        'region': \"PFC\" if \"PFC\" in value or \"Prefrontal Cortex\" in value else \" \".join(value.split()[1:])  # Standardize region name\n",
    "    }\n",
    "    for library, value in result_to_sample_mapping.items()\n",
    "}\n",
    "\n",
    "# Display the updated dictionary\n",
    "library_dict"
   ]
  },
  {
   "cell_type": "code",
   "execution_count": 5,
   "id": "9a97f7d0-f9d4-4df0-90af-a6660d332bcb",
   "metadata": {
    "scrolled": true
   },
   "outputs": [
    {
     "name": "stderr",
     "output_type": "stream",
     "text": [
      "/home/AD/xic007/miniforge3/envs/scorch/lib/python3.11/site-packages/anndata/_core/anndata.py:1820: UserWarning: Variable names are not unique. To make them unique, call `.var_names_make_unique`.\n",
      "  utils.warn_names_duplicates(\"var\")\n",
      "/home/AD/xic007/miniforge3/envs/scorch/lib/python3.11/site-packages/anndata/_core/anndata.py:1820: UserWarning: Variable names are not unique. To make them unique, call `.var_names_make_unique`.\n",
      "  utils.warn_names_duplicates(\"var\")\n"
     ]
    },
    {
     "name": "stdout",
     "output_type": "stream",
     "text": [
      "Filter complete. Filtered data has 14258 cells, 21369 genes.\n",
      "Preprocessing...\n",
      "Simulating doublets...\n",
      "Embedding transcriptomes using PCA...\n",
      "Calculating doublet scores...\n",
      "Automatically set threshold at doublet score = 0.81\n",
      "Detected doublet rate = 0.1%\n",
      "Estimated detectable doublet fraction = 1.7%\n",
      "Overall doublet rate:\n",
      "\tExpected   = 10.0%\n",
      "\tEstimated  = 3.8%\n",
      "Elapsed time: 32.5 seconds\n",
      "Predicted doublets marked.\n",
      "QC metrics calculation complete.\n",
      "Number of mito genes: 12.\n",
      "Number of ribo genes: 81.\n",
      "Mito genes & MALAT1 removed. Data now has 14258 cells, 21357 genes.\n"
     ]
    },
    {
     "name": "stderr",
     "output_type": "stream",
     "text": [
      "/tmp/ipykernel_1394908/362043245.py:65: ImplicitModificationWarning: Setting element `.layers['RNA_raw']` of view, initializing view as actual.\n",
      "  data.layers['RNA_raw'] = data.X.copy()\n"
     ]
    },
    {
     "name": "stdout",
     "output_type": "stream",
     "text": [
      "Data preprocessed and saved to /cndd/xic007/scorch/SCORCH_NHP/Processed_GEX/JB_1415_1_2_JB_1411_1_2.h5ad\n"
     ]
    },
    {
     "name": "stderr",
     "output_type": "stream",
     "text": [
      "/home/AD/xic007/miniforge3/envs/scorch/lib/python3.11/site-packages/anndata/_core/anndata.py:1820: UserWarning: Variable names are not unique. To make them unique, call `.var_names_make_unique`.\n",
      "  utils.warn_names_duplicates(\"var\")\n",
      "/home/AD/xic007/miniforge3/envs/scorch/lib/python3.11/site-packages/anndata/_core/anndata.py:1820: UserWarning: Variable names are not unique. To make them unique, call `.var_names_make_unique`.\n",
      "  utils.warn_names_duplicates(\"var\")\n"
     ]
    },
    {
     "name": "stdout",
     "output_type": "stream",
     "text": [
      "Filter complete. Filtered data has 15535 cells, 21369 genes.\n",
      "Preprocessing...\n",
      "Simulating doublets...\n",
      "Embedding transcriptomes using PCA...\n",
      "Calculating doublet scores...\n",
      "Automatically set threshold at doublet score = 0.23\n",
      "Detected doublet rate = 9.3%\n",
      "Estimated detectable doublet fraction = 69.1%\n",
      "Overall doublet rate:\n",
      "\tExpected   = 10.0%\n",
      "\tEstimated  = 13.4%\n",
      "Elapsed time: 32.0 seconds\n",
      "Predicted doublets marked.\n",
      "QC metrics calculation complete.\n",
      "Number of mito genes: 12.\n",
      "Number of ribo genes: 81.\n",
      "Mito genes & MALAT1 removed. Data now has 15535 cells, 21357 genes.\n"
     ]
    },
    {
     "name": "stderr",
     "output_type": "stream",
     "text": [
      "/tmp/ipykernel_1394908/362043245.py:65: ImplicitModificationWarning: Setting element `.layers['RNA_raw']` of view, initializing view as actual.\n",
      "  data.layers['RNA_raw'] = data.X.copy()\n"
     ]
    },
    {
     "name": "stdout",
     "output_type": "stream",
     "text": [
      "Data preprocessed and saved to /cndd/xic007/scorch/SCORCH_NHP/Processed_GEX/JD_173_1_2_JD_169_1_2.h5ad\n"
     ]
    },
    {
     "name": "stderr",
     "output_type": "stream",
     "text": [
      "/home/AD/xic007/miniforge3/envs/scorch/lib/python3.11/site-packages/anndata/_core/anndata.py:1820: UserWarning: Variable names are not unique. To make them unique, call `.var_names_make_unique`.\n",
      "  utils.warn_names_duplicates(\"var\")\n",
      "/home/AD/xic007/miniforge3/envs/scorch/lib/python3.11/site-packages/anndata/_core/anndata.py:1820: UserWarning: Variable names are not unique. To make them unique, call `.var_names_make_unique`.\n",
      "  utils.warn_names_duplicates(\"var\")\n"
     ]
    },
    {
     "name": "stdout",
     "output_type": "stream",
     "text": [
      "Filter complete. Filtered data has 16955 cells, 21369 genes.\n",
      "Preprocessing...\n",
      "Simulating doublets...\n",
      "Embedding transcriptomes using PCA...\n",
      "Calculating doublet scores...\n",
      "Automatically set threshold at doublet score = 0.26\n",
      "Detected doublet rate = 8.1%\n",
      "Estimated detectable doublet fraction = 59.5%\n",
      "Overall doublet rate:\n",
      "\tExpected   = 10.0%\n",
      "\tEstimated  = 13.7%\n",
      "Elapsed time: 39.2 seconds\n",
      "Predicted doublets marked.\n",
      "QC metrics calculation complete.\n",
      "Number of mito genes: 12.\n",
      "Number of ribo genes: 81.\n",
      "Mito genes & MALAT1 removed. Data now has 16955 cells, 21357 genes.\n"
     ]
    },
    {
     "name": "stderr",
     "output_type": "stream",
     "text": [
      "/tmp/ipykernel_1394908/362043245.py:65: ImplicitModificationWarning: Setting element `.layers['RNA_raw']` of view, initializing view as actual.\n",
      "  data.layers['RNA_raw'] = data.X.copy()\n"
     ]
    },
    {
     "name": "stdout",
     "output_type": "stream",
     "text": [
      "Data preprocessed and saved to /cndd/xic007/scorch/SCORCH_NHP/Processed_GEX/JD_174_1_2_JD_170_1_2.h5ad\n"
     ]
    },
    {
     "name": "stderr",
     "output_type": "stream",
     "text": [
      "/home/AD/xic007/miniforge3/envs/scorch/lib/python3.11/site-packages/anndata/_core/anndata.py:1820: UserWarning: Variable names are not unique. To make them unique, call `.var_names_make_unique`.\n",
      "  utils.warn_names_duplicates(\"var\")\n",
      "/home/AD/xic007/miniforge3/envs/scorch/lib/python3.11/site-packages/anndata/_core/anndata.py:1820: UserWarning: Variable names are not unique. To make them unique, call `.var_names_make_unique`.\n",
      "  utils.warn_names_duplicates(\"var\")\n"
     ]
    },
    {
     "name": "stdout",
     "output_type": "stream",
     "text": [
      "Filter complete. Filtered data has 13280 cells, 21369 genes.\n",
      "Preprocessing...\n",
      "Simulating doublets...\n",
      "Embedding transcriptomes using PCA...\n",
      "Calculating doublet scores...\n",
      "Automatically set threshold at doublet score = 0.25\n",
      "Detected doublet rate = 8.3%\n",
      "Estimated detectable doublet fraction = 62.6%\n",
      "Overall doublet rate:\n",
      "\tExpected   = 10.0%\n",
      "\tEstimated  = 13.3%\n",
      "Elapsed time: 28.8 seconds\n",
      "Predicted doublets marked.\n",
      "QC metrics calculation complete.\n",
      "Number of mito genes: 12.\n",
      "Number of ribo genes: 81.\n",
      "Mito genes & MALAT1 removed. Data now has 13280 cells, 21357 genes.\n"
     ]
    },
    {
     "name": "stderr",
     "output_type": "stream",
     "text": [
      "/tmp/ipykernel_1394908/362043245.py:65: ImplicitModificationWarning: Setting element `.layers['RNA_raw']` of view, initializing view as actual.\n",
      "  data.layers['RNA_raw'] = data.X.copy()\n"
     ]
    },
    {
     "name": "stdout",
     "output_type": "stream",
     "text": [
      "Data preprocessed and saved to /cndd/xic007/scorch/SCORCH_NHP/Processed_GEX/JB_1414_1_2_JB_1410_1_2.h5ad\n"
     ]
    },
    {
     "name": "stderr",
     "output_type": "stream",
     "text": [
      "/home/AD/xic007/miniforge3/envs/scorch/lib/python3.11/site-packages/anndata/_core/anndata.py:1820: UserWarning: Variable names are not unique. To make them unique, call `.var_names_make_unique`.\n",
      "  utils.warn_names_duplicates(\"var\")\n",
      "/home/AD/xic007/miniforge3/envs/scorch/lib/python3.11/site-packages/anndata/_core/anndata.py:1820: UserWarning: Variable names are not unique. To make them unique, call `.var_names_make_unique`.\n",
      "  utils.warn_names_duplicates(\"var\")\n"
     ]
    },
    {
     "name": "stdout",
     "output_type": "stream",
     "text": [
      "Filter complete. Filtered data has 12387 cells, 21369 genes.\n",
      "Preprocessing...\n",
      "Simulating doublets...\n",
      "Embedding transcriptomes using PCA...\n",
      "Calculating doublet scores...\n",
      "Automatically set threshold at doublet score = 0.17\n",
      "Detected doublet rate = 14.0%\n",
      "Estimated detectable doublet fraction = 74.7%\n",
      "Overall doublet rate:\n",
      "\tExpected   = 10.0%\n",
      "\tEstimated  = 18.7%\n",
      "Elapsed time: 25.4 seconds\n",
      "Predicted doublets marked.\n",
      "QC metrics calculation complete.\n",
      "Number of mito genes: 12.\n",
      "Number of ribo genes: 81.\n",
      "Mito genes & MALAT1 removed. Data now has 12387 cells, 21357 genes.\n"
     ]
    },
    {
     "name": "stderr",
     "output_type": "stream",
     "text": [
      "/tmp/ipykernel_1394908/362043245.py:65: ImplicitModificationWarning: Setting element `.layers['RNA_raw']` of view, initializing view as actual.\n",
      "  data.layers['RNA_raw'] = data.X.copy()\n"
     ]
    },
    {
     "name": "stdout",
     "output_type": "stream",
     "text": [
      "Data preprocessed and saved to /cndd/xic007/scorch/SCORCH_NHP/Processed_GEX/JB_1416_1_2_JB_1412_1_2.h5ad\n"
     ]
    },
    {
     "name": "stderr",
     "output_type": "stream",
     "text": [
      "/home/AD/xic007/miniforge3/envs/scorch/lib/python3.11/site-packages/anndata/_core/anndata.py:1820: UserWarning: Variable names are not unique. To make them unique, call `.var_names_make_unique`.\n",
      "  utils.warn_names_duplicates(\"var\")\n",
      "/home/AD/xic007/miniforge3/envs/scorch/lib/python3.11/site-packages/anndata/_core/anndata.py:1820: UserWarning: Variable names are not unique. To make them unique, call `.var_names_make_unique`.\n",
      "  utils.warn_names_duplicates(\"var\")\n"
     ]
    },
    {
     "name": "stdout",
     "output_type": "stream",
     "text": [
      "Filter complete. Filtered data has 10831 cells, 21369 genes.\n",
      "Preprocessing...\n",
      "Simulating doublets...\n",
      "Embedding transcriptomes using PCA...\n",
      "Calculating doublet scores...\n",
      "Automatically set threshold at doublet score = 0.24\n",
      "Detected doublet rate = 8.7%\n",
      "Estimated detectable doublet fraction = 68.6%\n",
      "Overall doublet rate:\n",
      "\tExpected   = 10.0%\n",
      "\tEstimated  = 12.7%\n",
      "Elapsed time: 21.8 seconds\n",
      "Predicted doublets marked.\n",
      "QC metrics calculation complete.\n",
      "Number of mito genes: 12.\n",
      "Number of ribo genes: 81.\n",
      "Mito genes & MALAT1 removed. Data now has 10831 cells, 21357 genes.\n"
     ]
    },
    {
     "name": "stderr",
     "output_type": "stream",
     "text": [
      "/tmp/ipykernel_1394908/362043245.py:65: ImplicitModificationWarning: Setting element `.layers['RNA_raw']` of view, initializing view as actual.\n",
      "  data.layers['RNA_raw'] = data.X.copy()\n"
     ]
    },
    {
     "name": "stdout",
     "output_type": "stream",
     "text": [
      "Data preprocessed and saved to /cndd/xic007/scorch/SCORCH_NHP/Processed_GEX/JB_1417_1_2_JB_1413_1_2.h5ad\n"
     ]
    },
    {
     "name": "stderr",
     "output_type": "stream",
     "text": [
      "/home/AD/xic007/miniforge3/envs/scorch/lib/python3.11/site-packages/anndata/_core/anndata.py:1820: UserWarning: Variable names are not unique. To make them unique, call `.var_names_make_unique`.\n",
      "  utils.warn_names_duplicates(\"var\")\n",
      "/home/AD/xic007/miniforge3/envs/scorch/lib/python3.11/site-packages/anndata/_core/anndata.py:1820: UserWarning: Variable names are not unique. To make them unique, call `.var_names_make_unique`.\n",
      "  utils.warn_names_duplicates(\"var\")\n"
     ]
    },
    {
     "name": "stdout",
     "output_type": "stream",
     "text": [
      "Filter complete. Filtered data has 20000 cells, 21369 genes.\n",
      "Preprocessing...\n",
      "Simulating doublets...\n",
      "Embedding transcriptomes using PCA...\n",
      "Calculating doublet scores...\n",
      "Automatically set threshold at doublet score = 0.14\n",
      "Detected doublet rate = 24.1%\n",
      "Estimated detectable doublet fraction = 76.1%\n",
      "Overall doublet rate:\n",
      "\tExpected   = 10.0%\n",
      "\tEstimated  = 31.7%\n",
      "Elapsed time: 47.1 seconds\n",
      "Predicted doublets marked.\n",
      "QC metrics calculation complete.\n",
      "Number of mito genes: 12.\n",
      "Number of ribo genes: 81.\n",
      "Mito genes & MALAT1 removed. Data now has 20000 cells, 21357 genes.\n"
     ]
    },
    {
     "name": "stderr",
     "output_type": "stream",
     "text": [
      "/tmp/ipykernel_1394908/362043245.py:65: ImplicitModificationWarning: Setting element `.layers['RNA_raw']` of view, initializing view as actual.\n",
      "  data.layers['RNA_raw'] = data.X.copy()\n"
     ]
    },
    {
     "name": "stdout",
     "output_type": "stream",
     "text": [
      "Data preprocessed and saved to /cndd/xic007/scorch/SCORCH_NHP/Processed_GEX/JD_175_1_2_JD_171_1_2.h5ad\n",
      "All processes done.\n"
     ]
    }
   ],
   "source": [
    "# Regular expression to identify mitochondrial genes\n",
    "mito_pattern = r'^ND[1-6L]$|^CYTB$|^COX[1-3]$|^ATP[68]$|^MT-'\n",
    "\n",
    "for directory in directory_names:\n",
    "    library = re.match(r'^([^_]+_\\d+)_1_2', directory).group(1)\n",
    "\n",
    "    sample_id = library_dict[library]['sample_id']\n",
    "    region = library_dict[library]['region']\n",
    "    \n",
    "    # Load the data\n",
    "    data = sc.read_10x_h5(f\"/cndd/xic007/scorch/SCORCH_NHP/downloaded_data/{directory}/outs/filtered_feature_bc_matrix.h5\")\n",
    "\n",
    "    data.var_names_make_unique()\n",
    "    \n",
    "    # Add metadata to observations\n",
    "    data.obs['Sample_id'] = sample_id\n",
    "    data.obs['Condition'] = 'Control'\n",
    "    data.obs['Brain Region'] = region\n",
    "\n",
    "    data.obs_names = [f\"{sample_id}_{region}_{idx}\" for idx in data.obs_names]\n",
    "\n",
    "    print(f'Filter complete. Filtered data has {data.n_obs} cells, {data.n_vars} genes.')\n",
    "    \n",
    "    # Perform Scrublet analysis for doublet detection\n",
    "    scrub = scr.Scrublet(data.X)\n",
    "    doublet_scores, predicted_doublets = scrub.scrub_doublets()\n",
    "\n",
    "    data.obs['Doublet Score'] = doublet_scores\n",
    "    data.obs['Predicted Doublet'] = predicted_doublets\n",
    "\n",
    "    print('Predicted doublets marked.')\n",
    "    \n",
    "    # Identify mitochondrial genes\n",
    "    data.var[\"mt\"] = data.var.index.str.contains(mito_pattern, na=False)\n",
    "    \n",
    "    # Identify ribosomal genes\n",
    "    data.var[\"ribo\"] = data.var.index.str.startswith((\"RPS\", \"RPL\"))\n",
    "\n",
    "    # Calculate QC metrics\n",
    "    sc.pp.calculate_qc_metrics(data, qc_vars=[\"mt\", \"ribo\"], inplace=True)\n",
    "\n",
    "    print('QC metrics calculation complete.')\n",
    "\n",
    "    # Calculate percent mitochondrial content\n",
    "    data.obs['percent_mito'] = np.sum(data[:, data.var[\"mt\"]].X, axis=1).A1 / np.sum(data.X, axis=1).A1\n",
    "\n",
    "    print(f'Number of mito genes: {data.var[\"mt\"].sum()}.')\n",
    "\n",
    "    # Calculate percent ribosomal content\n",
    "    print(f'Number of ribo genes: {data.var[\"ribo\"].sum()}.')\n",
    "\n",
    "    data.obs['percent_ribo'] = np.sum(data[:, data.var[\"ribo\"]].X, axis=1).A1 / np.sum(data.X, axis=1).A1\n",
    "\n",
    "    # Visualize QC metrics\n",
    "    sc.pl.violin(data, ['percent_mito', 'percent_ribo'], stripplot=False, jitter=0.4)\n",
    "\n",
    "    # Identify genes to remove (mitochondrial and MALAT1)\n",
    "    malat1_genes = data.var_names.str.contains('^MALAT1$', na=False)\n",
    "    genes_to_remove = np.logical_or(data.var[\"mt\"], malat1_genes)\n",
    "    data = data[:, ~genes_to_remove]\n",
    "\n",
    "    print(f'Mito genes & MALAT1 removed. Data now has {data.n_obs} cells, {data.n_vars} genes.')\n",
    "\n",
    "    # Store raw data in a separate layer\n",
    "    data.layers['RNA_raw'] = data.X.copy()\n",
    "    \n",
    "    # Save the preprocessed data\n",
    "    data.write_h5ad(f'/cndd/xic007/scorch/SCORCH_NHP/Processed_GEX/{directory}.h5ad')\n",
    "\n",
    "    print(f'Data preprocessed and saved to /cndd/xic007/scorch/SCORCH_NHP/Processed_GEX/{directory}.h5ad')\n",
    "\n",
    "print(\"All processes done.\")"
   ]
  },
  {
   "cell_type": "code",
   "execution_count": 7,
   "id": "cb1c5a28-a1ae-4a2a-829b-a3c497d03e25",
   "metadata": {},
   "outputs": [],
   "source": [
    "additional = ['/datasets/Public_Datasets/Rana_SCORCH_NHP_SIV/counts/QY_1686_1_2_3_QY_1685_1_2_3',\n",
    "              '/datasets/Public_Datasets/Rana_SCORCH_NHP_SIV/counts/QY_1688_1_2_3_QY_1687_1_2_3',\n",
    "              '/datasets/Public_Datasets/Rana_SCORCH_NHP_SIV/counts/QY_1690_1_2_3_QY_1689_1_2_3']\n",
    "sample_names = ['Rana_NHP_40495',\n",
    "               'Rana_NHP_40965',\n",
    "               'Rana_NHP_41056']\n",
    "directory = ['QY_1686_1_2_3_QY_1685_1_2_3',\n",
    "            'QY_1688_1_2_3_QY_1687_1_2_3',\n",
    "            'QY_1690_1_2_3_QY_1689_1_2_3']"
   ]
  },
  {
   "cell_type": "code",
   "execution_count": 8,
   "id": "5347deaa-a5f4-4ebf-a14c-ca7207cde589",
   "metadata": {},
   "outputs": [
    {
     "name": "stderr",
     "output_type": "stream",
     "text": [
      "/home/AD/xic007/miniforge3/envs/scorch/lib/python3.11/site-packages/anndata/_core/anndata.py:1820: UserWarning: Variable names are not unique. To make them unique, call `.var_names_make_unique`.\n",
      "  utils.warn_names_duplicates(\"var\")\n",
      "/home/AD/xic007/miniforge3/envs/scorch/lib/python3.11/site-packages/anndata/_core/anndata.py:1820: UserWarning: Variable names are not unique. To make them unique, call `.var_names_make_unique`.\n",
      "  utils.warn_names_duplicates(\"var\")\n"
     ]
    },
    {
     "name": "stdout",
     "output_type": "stream",
     "text": [
      "Filter complete. Filtered data has 11743 cells, 21369 genes.\n",
      "Preprocessing...\n",
      "Simulating doublets...\n",
      "Embedding transcriptomes using PCA...\n",
      "Calculating doublet scores...\n",
      "Automatically set threshold at doublet score = 0.63\n",
      "Detected doublet rate = 0.0%\n",
      "Estimated detectable doublet fraction = 0.3%\n",
      "Overall doublet rate:\n",
      "\tExpected   = 10.0%\n",
      "\tEstimated  = 6.6%\n",
      "Elapsed time: 26.2 seconds\n",
      "Predicted doublets marked.\n",
      "QC metrics calculation complete.\n",
      "Number of mito genes: 12.\n",
      "Number of ribo genes: 81.\n",
      "Mito genes & MALAT1 removed. Data now has 11743 cells, 21357 genes.\n"
     ]
    },
    {
     "name": "stderr",
     "output_type": "stream",
     "text": [
      "/tmp/ipykernel_2344991/2323987043.py:64: ImplicitModificationWarning: Setting element `.layers['RNA_raw']` of view, initializing view as actual.\n",
      "  data.layers['RNA_raw'] = data.X.copy()\n"
     ]
    },
    {
     "name": "stdout",
     "output_type": "stream",
     "text": [
      "Data preprocessed and saved to /cndd/xic007/scorch/SCORCH_NHP/Processed_GEX/QY_1686_1_2_3_QY_1685_1_2_3.h5ad\n"
     ]
    },
    {
     "name": "stderr",
     "output_type": "stream",
     "text": [
      "/home/AD/xic007/miniforge3/envs/scorch/lib/python3.11/site-packages/anndata/_core/anndata.py:1820: UserWarning: Variable names are not unique. To make them unique, call `.var_names_make_unique`.\n",
      "  utils.warn_names_duplicates(\"var\")\n",
      "/home/AD/xic007/miniforge3/envs/scorch/lib/python3.11/site-packages/anndata/_core/anndata.py:1820: UserWarning: Variable names are not unique. To make them unique, call `.var_names_make_unique`.\n",
      "  utils.warn_names_duplicates(\"var\")\n"
     ]
    },
    {
     "name": "stdout",
     "output_type": "stream",
     "text": [
      "Filter complete. Filtered data has 14909 cells, 21369 genes.\n",
      "Preprocessing...\n",
      "Simulating doublets...\n",
      "Embedding transcriptomes using PCA...\n",
      "Calculating doublet scores...\n",
      "Automatically set threshold at doublet score = 0.75\n",
      "Detected doublet rate = 0.0%\n",
      "Estimated detectable doublet fraction = 0.0%\n",
      "Overall doublet rate:\n",
      "\tExpected   = 10.0%\n",
      "\tEstimated  = 0.0%\n",
      "Elapsed time: 36.6 seconds\n",
      "Predicted doublets marked.\n",
      "QC metrics calculation complete.\n",
      "Number of mito genes: 12.\n",
      "Number of ribo genes: 81.\n",
      "Mito genes & MALAT1 removed. Data now has 14909 cells, 21357 genes.\n"
     ]
    },
    {
     "name": "stderr",
     "output_type": "stream",
     "text": [
      "/tmp/ipykernel_2344991/2323987043.py:64: ImplicitModificationWarning: Setting element `.layers['RNA_raw']` of view, initializing view as actual.\n",
      "  data.layers['RNA_raw'] = data.X.copy()\n"
     ]
    },
    {
     "name": "stdout",
     "output_type": "stream",
     "text": [
      "Data preprocessed and saved to /cndd/xic007/scorch/SCORCH_NHP/Processed_GEX/QY_1688_1_2_3_QY_1687_1_2_3.h5ad\n"
     ]
    },
    {
     "name": "stderr",
     "output_type": "stream",
     "text": [
      "/home/AD/xic007/miniforge3/envs/scorch/lib/python3.11/site-packages/anndata/_core/anndata.py:1820: UserWarning: Variable names are not unique. To make them unique, call `.var_names_make_unique`.\n",
      "  utils.warn_names_duplicates(\"var\")\n",
      "/home/AD/xic007/miniforge3/envs/scorch/lib/python3.11/site-packages/anndata/_core/anndata.py:1820: UserWarning: Variable names are not unique. To make them unique, call `.var_names_make_unique`.\n",
      "  utils.warn_names_duplicates(\"var\")\n"
     ]
    },
    {
     "name": "stdout",
     "output_type": "stream",
     "text": [
      "Filter complete. Filtered data has 11607 cells, 21369 genes.\n",
      "Preprocessing...\n",
      "Simulating doublets...\n",
      "Embedding transcriptomes using PCA...\n",
      "Calculating doublet scores...\n",
      "Automatically set threshold at doublet score = 0.72\n",
      "Detected doublet rate = 0.0%\n",
      "Estimated detectable doublet fraction = 0.2%\n",
      "Overall doublet rate:\n",
      "\tExpected   = 10.0%\n",
      "\tEstimated  = 9.5%\n",
      "Elapsed time: 25.3 seconds\n",
      "Predicted doublets marked.\n",
      "QC metrics calculation complete.\n",
      "Number of mito genes: 12.\n",
      "Number of ribo genes: 81.\n",
      "Mito genes & MALAT1 removed. Data now has 11607 cells, 21357 genes.\n"
     ]
    },
    {
     "name": "stderr",
     "output_type": "stream",
     "text": [
      "/tmp/ipykernel_2344991/2323987043.py:64: ImplicitModificationWarning: Setting element `.layers['RNA_raw']` of view, initializing view as actual.\n",
      "  data.layers['RNA_raw'] = data.X.copy()\n"
     ]
    },
    {
     "name": "stdout",
     "output_type": "stream",
     "text": [
      "Data preprocessed and saved to /cndd/xic007/scorch/SCORCH_NHP/Processed_GEX/QY_1690_1_2_3_QY_1689_1_2_3.h5ad\n",
      "All processes done.\n"
     ]
    }
   ],
   "source": [
    "# Regular expression to identify mitochondrial genes\n",
    "mito_pattern = r'^ND[1-6L]$|^CYTB$|^COX[1-3]$|^ATP[68]$|^MT-'\n",
    "\n",
    "for directory, sample, save_directory in zip(additional, sample_names, directory):\n",
    "\n",
    "    sample_id = sample\n",
    "    region = 'PFC'\n",
    "    \n",
    "    # Load the data\n",
    "    data = sc.read_10x_h5(f\"{directory}/outs/filtered_feature_bc_matrix.h5\")\n",
    "\n",
    "    data.var_names_make_unique()\n",
    "    \n",
    "    # Add metadata to observations\n",
    "    data.obs['Sample_id'] = sample_id\n",
    "    data.obs['Condition'] = 'Control'\n",
    "    data.obs['Brain Region'] = region\n",
    "\n",
    "    data.obs_names = [f\"{sample_id}_{region}_{idx}\" for idx in data.obs_names]\n",
    "\n",
    "    print(f'Filter complete. Filtered data has {data.n_obs} cells, {data.n_vars} genes.')\n",
    "    \n",
    "    # Perform Scrublet analysis for doublet detection\n",
    "    scrub = scr.Scrublet(data.X)\n",
    "    doublet_scores, predicted_doublets = scrub.scrub_doublets()\n",
    "\n",
    "    data.obs['Doublet Score'] = doublet_scores\n",
    "    data.obs['Predicted Doublet'] = predicted_doublets\n",
    "\n",
    "    print('Predicted doublets marked.')\n",
    "    \n",
    "    # Identify mitochondrial genes\n",
    "    data.var[\"mt\"] = data.var.index.str.contains(mito_pattern, na=False)\n",
    "    \n",
    "    # Identify ribosomal genes\n",
    "    data.var[\"ribo\"] = data.var.index.str.startswith((\"RPS\", \"RPL\"))\n",
    "\n",
    "    # Calculate QC metrics\n",
    "    sc.pp.calculate_qc_metrics(data, qc_vars=[\"mt\", \"ribo\"], inplace=True)\n",
    "\n",
    "    print('QC metrics calculation complete.')\n",
    "\n",
    "    # Calculate percent mitochondrial content\n",
    "    data.obs['percent_mito'] = np.sum(data[:, data.var[\"mt\"]].X, axis=1).A1 / np.sum(data.X, axis=1).A1\n",
    "\n",
    "    print(f'Number of mito genes: {data.var[\"mt\"].sum()}.')\n",
    "\n",
    "    # Calculate percent ribosomal content\n",
    "    print(f'Number of ribo genes: {data.var[\"ribo\"].sum()}.')\n",
    "\n",
    "    data.obs['percent_ribo'] = np.sum(data[:, data.var[\"ribo\"]].X, axis=1).A1 / np.sum(data.X, axis=1).A1\n",
    "\n",
    "    # Visualize QC metrics\n",
    "    sc.pl.violin(data, ['percent_mito', 'percent_ribo'], stripplot=False, jitter=0.4)\n",
    "\n",
    "    # Identify genes to remove (mitochondrial and MALAT1)\n",
    "    malat1_genes = data.var_names.str.contains('^MALAT1$', na=False)\n",
    "    genes_to_remove = np.logical_or(data.var[\"mt\"], malat1_genes)\n",
    "    data = data[:, ~genes_to_remove]\n",
    "\n",
    "    print(f'Mito genes & MALAT1 removed. Data now has {data.n_obs} cells, {data.n_vars} genes.')\n",
    "\n",
    "    # Store raw data in a separate layer\n",
    "    data.layers['RNA_raw'] = data.X.copy()\n",
    "    \n",
    "    # Save the preprocessed data\n",
    "    data.write_h5ad(f'/cndd/xic007/scorch/SCORCH_NHP/Processed_GEX/{save_directory}.h5ad')\n",
    "\n",
    "    print(f'Data preprocessed and saved to /cndd/xic007/scorch/SCORCH_NHP/Processed_GEX/{save_directory}.h5ad')\n",
    "\n",
    "print(\"All processes done.\")"
   ]
  }
 ],
 "metadata": {
  "kernelspec": {
   "display_name": "Python 3 (ipykernel)",
   "language": "python",
   "name": "python3"
  },
  "language_info": {
   "codemirror_mode": {
    "name": "ipython",
    "version": 3
   },
   "file_extension": ".py",
   "mimetype": "text/x-python",
   "name": "python",
   "nbconvert_exporter": "python",
   "pygments_lexer": "ipython3",
   "version": "3.10.2"
  }
 },
 "nbformat": 4,
 "nbformat_minor": 5
}
