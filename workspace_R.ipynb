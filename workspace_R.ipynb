{
 "cells": [
  {
   "cell_type": "code",
   "execution_count": 1,
   "metadata": {
    "vscode": {
     "languageId": "r"
    }
   },
   "outputs": [
    {
     "name": "stderr",
     "output_type": "stream",
     "text": [
      "Warning message:\n",
      "“package ‘Seurat’ was built under R version 4.2.3”\n",
      "The legacy packages maptools, rgdal, and rgeos, underpinning the sp package,\n",
      "which was just loaded, will retire in October 2023.\n",
      "Please refer to R-spatial evolution reports for details, especially\n",
      "https://r-spatial.org/r/2023/05/15/evolution4.html.\n",
      "It may be desirable to make the sf package available;\n",
      "package maintainers should consider adding sf to Suggests:.\n",
      "The sp package is now running under evolution status 2\n",
      "     (status 2 uses the sf package in place of rgdal)\n",
      "\n",
      "Attaching SeuratObject\n",
      "\n"
     ]
    }
   ],
   "source": [
    "library(Seurat)\n",
    "#load rds file into seurat\n",
    "data <- readRDS(\"/cndd3/dburrows/DATA/singlecell_HIVOUD/230828_PFC_13samples_HVWs_combined.rds\")"
   ]
  },
  {
   "cell_type": "code",
   "execution_count": 2,
   "metadata": {
    "vscode": {
     "languageId": "r"
    }
   },
   "outputs": [
    {
     "name": "stderr",
     "output_type": "stream",
     "text": [
      "Loading required package: Signac\n",
      "\n"
     ]
    },
    {
     "data": {
      "text/plain": [
       "An object of class Seurat \n",
       "156845 features across 118677 samples within 4 assays \n",
       "Active assay: ATAC (50000 features, 50000 variable features)\n",
       " 3 other assays present: RNA, RNA_raw, SCT\n",
       " 7 dimensional reductions calculated: pca, harmony.rna, umap.rna, lsi, harmony.atac, umap.atac, umap.wnn"
      ]
     },
     "metadata": {},
     "output_type": "display_data"
    }
   ],
   "source": [
    "data"
   ]
  },
  {
   "cell_type": "code",
   "execution_count": 4,
   "metadata": {
    "vscode": {
     "languageId": "r"
    }
   },
   "outputs": [
    {
     "name": "stderr",
     "output_type": "stream",
     "text": [
      "Saving data from ATAC as /matrix\n",
      "\n"
     ]
    }
   ],
   "source": [
    "library(SeuratDisk)\n",
    "#convert seurat object to loom\n",
    "SeuratDisk::as.loom(data, filename = \"/cndd3/dburrows/DATA/singlecell_HIVOUD/230828_PFC_13samples_HVWs_combined.loom\")\n"
   ]
  }
 ],
 "metadata": {
  "kernelspec": {
   "display_name": "R",
   "language": "R",
   "name": "ir"
  },
  "language_info": {
   "codemirror_mode": "r",
   "file_extension": ".r",
   "mimetype": "text/x-r-source",
   "name": "R",
   "pygments_lexer": "r",
   "version": "4.2.2"
  },
  "orig_nbformat": 4
 },
 "nbformat": 4,
 "nbformat_minor": 2
}
